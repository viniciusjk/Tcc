{
 "cells": [
  {
   "cell_type": "code",
   "execution_count": 126,
   "metadata": {},
   "outputs": [],
   "source": [
    "import csv\n",
    "import numpy as np\n",
    "import matplotlib\n",
    "from scipy.stats.mstats import gmean"
   ]
  },
  {
   "cell_type": "code",
   "execution_count": 104,
   "metadata": {},
   "outputs": [
    {
     "name": "stdout",
     "output_type": "stream",
     "text": [
      "['ï»¿Tamanho amostra', 'Heuristica', 'Tempo', 'FÃ¡ctivel', 'Resultado']\n"
     ]
    }
   ],
   "source": [
    "with open('Results_condensado_forPy.csv', 'r') as f:\n",
    "    data = csv.DictReader(f)\n",
    "    print(data.fieldnames)\n",
    "    solverMethod=[]\n",
    "    nextProduct =[]\n",
    "    nextProductImproved =[]\n",
    "    d.append(['Heuristica', 'Size', 'Tempo'])\n",
    "    for linhas in data:\n",
    "\n",
    "        if linhas['Heuristica'] == 'Solver method':\n",
    "            solverMethod.append([linhas['ï»¿Tamanho amostra'] ,linhas['Tempo']] )\n",
    "        elif linhas['Heuristica'] == 'Next Product2Buy':\n",
    "            nextProduct.append([linhas['ï»¿Tamanho amostra'] ,linhas['Tempo']] )\n",
    "        else :\n",
    "            nextProductImproved.append([linhas['ï»¿Tamanho amostra'] ,linhas['Tempo']] )\n",
    "            \n",
    "            "
   ]
  },
  {
   "cell_type": "code",
   "execution_count": 218,
   "metadata": {},
   "outputs": [],
   "source": [
    "\n",
    "solverMethodArray = np.array(solverMethod, dtype=float)\n",
    "solverMethodArray\n",
    "\n",
    "gm = []\n",
    "for i in range(len(solverMethodArray)-3):\n",
    "   if solverMethodArray[i][0] == solverMethodArray[i+1][0] and solverMethodArray[i][0] != solverMethodArray[i+2][0]:\n",
    "    var = solverMethodArray[i][1]*solverMethodArray[i+1][1]**0.5\n",
    "    gm.append([solverMethodArray[i][0],var])\n",
    "    i = i+2\n",
    "   if solverMethodArray[i][0] == solverMethodArray[i+1][0] and solverMethodArray[i][0] == solverMethodArray[i+2][0]:\n",
    "    var = (solverMethodArray[i][1]*solverMethodArray[i+1][1]*solverMethodArray[i+2][1])**0.33333\n",
    "    gm.append([solverMethodArray[i][0],var])\n",
    "    i = i+3\n",
    "\n",
    "\n",
    "\n"
   ]
  },
  {
   "cell_type": "code",
   "execution_count": 219,
   "metadata": {},
   "outputs": [
    {
     "data": {
      "text/plain": [
       "[[10.0, 0.059009072950178286],\n",
       " [10.0, 0.013361386390819284],\n",
       " [20.0, 0.12633810381041316],\n",
       " [20.0, 0.12633810381041316],\n",
       " [20.0, 0.10926840561989443],\n",
       " [20.0, 0.11858623154297643],\n",
       " [20.0, 0.04582494681919827],\n",
       " [30.0, 0.23558369715025171],\n",
       " [30.0, 0.23558369715025171],\n",
       " [30.0, 0.18721517717933717],\n",
       " [30.0, 0.091958712770402212],\n",
       " [40.0, 0.33225738385269504],\n",
       " [40.0, 0.33225738385269504],\n",
       " [40.0, 0.26776955216147336],\n",
       " [40.0, 0.15365456572460506],\n",
       " [50.0, 3.8030514080112194],\n",
       " [50.0, 3.8030514080112194],\n",
       " [50.0, 0.37063476871907514],\n",
       " [50.0, 0.20777675745841462],\n",
       " [60.0, 0.6405768281373585],\n",
       " [60.0, 0.6405768281373585],\n",
       " [60.0, 0.48980200534592222],\n",
       " [60.0, 0.36050741920804175],\n",
       " [70.0, 0.81652010467044223],\n",
       " [70.0, 0.81652010467044223],\n",
       " [70.0, 0.64281302324997358],\n",
       " [70.0, 0.4923543957390859],\n",
       " [80.0, 1.0379638782060898],\n",
       " [80.0, 1.0379638782060898],\n",
       " [80.0, 0.8057257909289125],\n",
       " [80.0, 0.75166850122120066],\n",
       " [90.0, 1.3383744560576858],\n",
       " [90.0, 1.3383744560576858],\n",
       " [90.0, 1.0259151975315639],\n",
       " [90.0, 1.0788051784051738],\n",
       " [100.0, 1.6956356115467519],\n",
       " [100.0, 1.6956356115467519],\n",
       " [100.0, 1.2471809279822987],\n",
       " [100.0, 1.4786974554933743],\n",
       " [150.0, 3.2363780130902122],\n",
       " [150.0, 3.2363780130902122],\n",
       " [150.0, 2.529627887708112],\n",
       " [150.0, 3.7854596227948067],\n",
       " [200.0, 5.1166550465325749],\n",
       " [200.0, 5.1166550465325749],\n",
       " [200.0, 4.1503341205331461],\n",
       " [200.0, 8.5466010839702466],\n",
       " [250.0, 8.1823206076850123],\n",
       " [250.0, 8.1823206076850123],\n",
       " [250.0, 6.4689003911424745],\n",
       " [250.0, 16.732018173992191],\n",
       " [300.0, 11.281330216946108],\n",
       " [300.0, 11.281330216946108],\n",
       " [300.0, 9.5112768707714839],\n",
       " [300.0, 29.113317043015645],\n",
       " [350.0, 15.934674780422819],\n",
       " [350.0, 15.934674780422819],\n",
       " [350.0, 12.954655719504906],\n",
       " [350.0, 46.497067389380796],\n",
       " [400.0, 19.538143267169787],\n",
       " [400.0, 19.538143267169787],\n",
       " [400.0, 16.187595249600399],\n",
       " [400.0, 65.369822520377753],\n",
       " [450.0, 25.192524205902295],\n",
       " [450.0, 25.192524205902295],\n",
       " [450.0, 20.080527582665507],\n",
       " [450.0, 90.116326429832284],\n",
       " [500.0, 32.767589604446322],\n",
       " [500.0, 32.767589604446322],\n",
       " [500.0, 24.590523404254679],\n",
       " [500.0, 120.95252202464354],\n",
       " [600.0, 58.962496038366282],\n",
       " [600.0, 58.962496038366282],\n",
       " [600.0, 286.78003314485841],\n",
       " [700.0, 61.536348046926427],\n",
       " [700.0, 61.536348046926427],\n",
       " [700.0, 304.40681507030627],\n",
       " [800.0, 79.882941884442985],\n",
       " [800.0, 79.882941884442985],\n",
       " [800.0, 438.56533733421372],\n",
       " [900.0, 1549.426428531538],\n",
       " [1000.0, 135.60963916636379],\n",
       " [1000.0, 135.60963916636379],\n",
       " [1000.0, 1059.1976663575033],\n",
       " [2000.0, 533.2764528263034],\n",
       " [2000.0, 8328.1815980593019]]"
      ]
     },
     "execution_count": 219,
     "metadata": {},
     "output_type": "execute_result"
    }
   ],
   "source": [
    "gm"
   ]
  }
 ],
 "metadata": {
  "kernelspec": {
   "display_name": "Python 3",
   "language": "python",
   "name": "python3"
  },
  "language_info": {
   "codemirror_mode": {
    "name": "ipython",
    "version": 3
   },
   "file_extension": ".py",
   "mimetype": "text/x-python",
   "name": "python",
   "nbconvert_exporter": "python",
   "pygments_lexer": "ipython3",
   "version": "3.6.1"
  }
 },
 "nbformat": 4,
 "nbformat_minor": 2
}
